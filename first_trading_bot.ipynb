{
 "cells": [
  {
   "cell_type": "markdown",
   "id": "b6adc0fa",
   "metadata": {},
   "source": [
    "# First Algorithmic Trading Bot"
   ]
  },
  {
   "cell_type": "code",
   "execution_count": 23,
   "id": "8836d7b2",
   "metadata": {},
   "outputs": [],
   "source": [
    "class tradingStrategy:\n",
    "    def __init__(self, name):\n",
    "        self.__name = name\n",
    "\n",
    "    @property\n",
    "    def name(self):\n",
    "        return self.__name\n",
    "    \n",
    "    @name.setter\n",
    "    def name(self, newValue):\n",
    "        if type(newValue) == str:\n",
    "            self.__name = newValue\n",
    "        else:\n",
    "            raise ValueError(\"Value must be string\")\n",
    "        \n",
    "    def generateSignal(self, priceData):\n",
    "        # this is meant to be overriden\n",
    "        print(\"Hold\")\n",
    "\n",
    "class SmaTradingStrategy(tradingStrategy):\n",
    "    # \"Simple Moving Average\"\n",
    "    def __init__(self, shortWindow, longWindow):\n",
    "        self.__shortWindow = shortWindow\n",
    "        self.__longWindow = longWindow\n",
    "        super().__init(\"SMA Trading Strategy\")\n",
    "\n",
    "    def generateSignal(self, priceData):\n",
    "        if len(priceData[-self.__longWindow:]) < self.__longWindow:\n",
    "            return \"Hold\"\n",
    "        \n",
    "        shortAvg = sum(priceData[-self.__shortWindow:]) / self.__shortWindow\n",
    "        longAvg = sum(priceData[-self.__longWindow:]) / self.__longWindow\n",
    "\n",
    "        if shortAvg < longAvg:\n",
    "            return \"Sell\"\n",
    "        elif shortAvg > longAvg:\n",
    "            return \"Buy\"\n",
    "        else:\n",
    "            return \"Hold\"\n",
    "\n",
    "    @property\n",
    "    def shortWindow(self):\n",
    "        return self.__shortWindow\n",
    "    \n",
    "    @property\n",
    "    def longWindow(self):\n",
    "        return self.__longWindow\n",
    "    \n"
   ]
  },
  {
   "cell_type": "code",
   "execution_count": 21,
   "id": "61ffed09",
   "metadata": {},
   "outputs": [
    {
     "name": "stdout",
     "output_type": "stream",
     "text": [
      "Sanket's Trading Strategy\n",
      "Bot1's Trading Strategy\n"
     ]
    }
   ],
   "source": [
    "myStrat = tradingStrategy(\"Sanket's Trading Strategy\")\n",
    "print(myStrat.name)\n",
    "myStrat.name = \"Bot1's Trading Strategy\"\n",
    "print(myStrat.name)"
   ]
  },
  {
   "cell_type": "code",
   "execution_count": null,
   "id": "8a199b4e",
   "metadata": {},
   "outputs": [],
   "source": []
  }
 ],
 "metadata": {
  "kernelspec": {
   "display_name": ".venv",
   "language": "python",
   "name": "python3"
  },
  "language_info": {
   "codemirror_mode": {
    "name": "ipython",
    "version": 3
   },
   "file_extension": ".py",
   "mimetype": "text/x-python",
   "name": "python",
   "nbconvert_exporter": "python",
   "pygments_lexer": "ipython3",
   "version": "3.11.2"
  }
 },
 "nbformat": 4,
 "nbformat_minor": 5
}
