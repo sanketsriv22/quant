{
 "cells": [
  {
   "cell_type": "code",
   "execution_count": 1,
   "id": "9ff8dba3",
   "metadata": {},
   "outputs": [],
   "source": [
    "import pandas as pd\n",
    "import numpy as np\n",
    "import matplotlib.pyplot as plt\n",
    "import seaborn as sns\n",
    "from datetime import datetime\n",
    "from pycoingecko import CoinGeckoAPI\n",
    "import requests"
   ]
  },
  {
   "cell_type": "code",
   "execution_count": null,
   "id": "7b0f380e",
   "metadata": {},
   "outputs": [],
   "source": [
    "class Analyzer:\n",
    "    def __init__(self):\n",
    "        self.cg == CoinGeckoAPI()\n",
    "        self.data = None\n",
    "        self.signals = None\n",
    "        self.returns = None\n",
    "\n",
    "    def collectData(self, nCoins = 100):\n",
    "        print(f\"Collecting data for top {nCoins} coins from CoinGecko API\")\n",
    "        markets = self.cg"
   ]
  },
  {
   "cell_type": "code",
   "execution_count": null,
   "id": "afdf2785",
   "metadata": {},
   "outputs": [],
   "source": []
  }
 ],
 "metadata": {
  "kernelspec": {
   "display_name": ".venv",
   "language": "python",
   "name": "python3"
  },
  "language_info": {
   "codemirror_mode": {
    "name": "ipython",
    "version": 3
   },
   "file_extension": ".py",
   "mimetype": "text/x-python",
   "name": "python",
   "nbconvert_exporter": "python",
   "pygments_lexer": "ipython3",
   "version": "3.11.2"
  }
 },
 "nbformat": 4,
 "nbformat_minor": 5
}
