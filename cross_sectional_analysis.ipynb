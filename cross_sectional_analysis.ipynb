{
 "cells": [
  {
   "cell_type": "code",
   "execution_count": null,
   "id": "fe580377",
   "metadata": {},
   "outputs": [],
   "source": [
    "import numpy as np\n",
    "import pandas as pd\n",
    "\n",
    "import matplotlib.pyplot as plt\n",
    "import seaborn as sns\n",
    "\n",
    "from pycoingecko import CoinGeckoAPI"
   ]
  },
  {
   "cell_type": "code",
   "execution_count": null,
   "id": "50dcee23",
   "metadata": {},
   "outputs": [],
   "source": [
    "# Configuration\n",
    "TOP_N = 10\n",
    "LOOKBACK_DAYS = 180\n",
    "RETURN_HORIZON = 5\n",
    "RANDOM_STATE = 42"
   ]
  },
  {
   "cell_type": "code",
   "execution_count": null,
   "id": "e455dd3c",
   "metadata": {},
   "outputs": [],
   "source": [
    "def fetch_top_coins_by_market_cap(n = TOP_N):\n",
    "    \"\"\"\n",
    "    Fetches top N crytocurrencies by market cap from CoinGecko API\n",
    "    \"\"\"\n",
    "\n",
    "    cg = CoinGeckoAPI()\n",
    "    coins = cg.get_coins_markets(vs_currency = 'usd', order = 'market_cap_desc',\n",
    "                                 per_page = n, page = 1, sparkline = False)\n",
    "    return [coin['id'] for coin in coins]\n"
   ]
  },
  {
   "cell_type": "code",
   "execution_count": null,
   "id": "f62caee2",
   "metadata": {},
   "outputs": [],
   "source": [
    "def fetch_historical_data(coin_id, days = LOOKBACK_DAYS):\n",
    "    \"\"\"\n",
    "    Fetch historical OHLCV data for a single coin\n",
    "    \"\"\"\n",
    "\n",
    "    cg = CoinGeckoAPI()\n",
    "    data = cg.get_coin_market_chart_by_id(id = coin_id, vs_currency = 'usd', days = days)\n",
    "\n",
    "    df = pd.DataFrame({\n",
    "        'timestamp': [x[0] for x in data['prices']],\n",
    "        'price': [x[1] for x in data['prices']],\n",
    "        'market_cap': [x[1] for x in data['market_caps']],\n",
    "        'volume': [x[0] for x in data['total_volumes']],\n",
    "    })\n",
    "\n",
    "    df['Date'] = pd.to_datetime(df['timestamp'], unit = 'ms')\n",
    "    df = df.drop('timestamp', axis = 1)\n",
    "    df = df.rename(columns = {'price': 'Close', 'volume': 'Volume', 'market_cap': 'MarketCap'})\n",
    "    df['Ticker'] = coin_id\n",
    "\n",
    "    return df[['Date', 'Ticker', 'Close', 'Volume', 'MarketCap']]"
   ]
  },
  {
   "cell_type": "code",
   "execution_count": null,
   "id": "585ee9ca",
   "metadata": {},
   "outputs": [
    {
     "ename": "SyntaxError",
     "evalue": "incomplete input (4102869004.py, line 2)",
     "output_type": "error",
     "traceback": [
      "  \u001b[36mCell\u001b[39m\u001b[36m \u001b[39m\u001b[32mIn[2]\u001b[39m\u001b[32m, line 2\u001b[39m\n\u001b[31m    \u001b[39m\u001b[31m\"\"\"\u001b[39m\n    ^\n\u001b[31mSyntaxError\u001b[39m\u001b[31m:\u001b[39m incomplete input\n"
     ]
    }
   ],
   "source": [
    "def build_crypto_dataset(top_n = TOP_N, days = LOOKBACK_DAYS):\n",
    "    \"\"\"\n",
    "    Build comprehensive dataset for top N crypto assets\n",
    "    \"\"\"\n",
    "    \n",
    "    coin_ids = fetch_top_coins_by_market_cap(top_n)\n",
    "    print(f\"Coins selected: {coin_ids}\")\n",
    "\n",
    "    all_data = []\n",
    "    for i, coin_id in enumerate(coin_ids):\n",
    "        try:\n",
    "            df = fetch_historical_data(coin_id, days)\n",
    "            all_data.append(df)\n",
    "        except Exception as e:\n",
    "            print(f\"Error fetching {coin_id}: {e}\")\n",
    "            continue\n",
    "\n",
    "    data = pd.concat(all_data, ignore_index = True)\n",
    "    print(f\"Total records fetched: {len(data)}\")\n",
    "    return data"
   ]
  },
  {
   "cell_type": "code",
   "execution_count": null,
   "id": "7fd166a4",
   "metadata": {},
   "outputs": [],
   "source": []
  },
  {
   "cell_type": "code",
   "execution_count": null,
   "id": "4a5c243e",
   "metadata": {},
   "outputs": [],
   "source": []
  },
  {
   "cell_type": "code",
   "execution_count": null,
   "id": "a1701361",
   "metadata": {},
   "outputs": [],
   "source": []
  },
  {
   "cell_type": "code",
   "execution_count": null,
   "id": "e905a1d3",
   "metadata": {},
   "outputs": [],
   "source": []
  }
 ],
 "metadata": {
  "kernelspec": {
   "display_name": ".venv",
   "language": "python",
   "name": "python3"
  },
  "language_info": {
   "codemirror_mode": {
    "name": "ipython",
    "version": 3
   },
   "file_extension": ".py",
   "mimetype": "text/x-python",
   "name": "python",
   "nbconvert_exporter": "python",
   "pygments_lexer": "ipython3",
   "version": "3.11.2"
  }
 },
 "nbformat": 4,
 "nbformat_minor": 5
}
